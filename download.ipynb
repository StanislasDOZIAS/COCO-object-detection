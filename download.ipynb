{
 "cells": [
  {
   "cell_type": "code",
   "execution_count": 2,
   "metadata": {},
   "outputs": [],
   "source": [
    "import fiftyone"
   ]
  },
  {
   "cell_type": "code",
   "execution_count": 3,
   "metadata": {},
   "outputs": [
    {
     "name": "stdout",
     "output_type": "stream",
     "text": [
      "Downloading split 'train' to 'C:\\Users\\stani\\fiftyone\\coco-2014\\train' if necessary\n",
      "Found annotations at 'C:\\Users\\stani\\fiftyone\\coco-2014\\raw\\instances_train2014.json'\n",
      "Images already downloaded\n",
      "Existing download of split 'train' is sufficient\n",
      "Downloading split 'validation' to 'C:\\Users\\stani\\fiftyone\\coco-2014\\validation' if necessary\n",
      "Found annotations at 'C:\\Users\\stani\\fiftyone\\coco-2014\\raw\\instances_val2014.json'\n",
      "Images already downloaded\n",
      "Existing download of split 'validation' is sufficient\n",
      "Downloading split 'test' to 'C:\\Users\\stani\\fiftyone\\coco-2014\\test' if necessary\n",
      "Found test info at 'C:\\Users\\stani\\fiftyone\\coco-2014\\raw\\image_info_test2014.json'\n",
      "Images already downloaded\n",
      "Existing download of split 'test' is sufficient\n",
      "Loading existing dataset 'coco-2014'. To reload from disk, either delete the existing dataset or provide a custom `dataset_name` to use\n"
     ]
    }
   ],
   "source": [
    "dataset = fiftyone.zoo.load_zoo_dataset(\"coco-2014\")"
   ]
  }
 ],
 "metadata": {
  "kernelspec": {
   "display_name": "Python 3.7.13 ('coco')",
   "language": "python",
   "name": "python3"
  },
  "language_info": {
   "codemirror_mode": {
    "name": "ipython",
    "version": 3
   },
   "file_extension": ".py",
   "mimetype": "text/x-python",
   "name": "python",
   "nbconvert_exporter": "python",
   "pygments_lexer": "ipython3",
   "version": "3.7.13"
  },
  "orig_nbformat": 4,
  "vscode": {
   "interpreter": {
    "hash": "0cc9dd957ca55b758a394bd13f56e1e71562a4bb91f5af0835d65251fb2cfca3"
   }
  }
 },
 "nbformat": 4,
 "nbformat_minor": 2
}
