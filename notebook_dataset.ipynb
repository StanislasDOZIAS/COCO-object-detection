{
 "cells": [
  {
   "cell_type": "code",
   "execution_count": 1,
   "metadata": {},
   "outputs": [],
   "source": [
    "from utils.dataset.dataset import create_fiftyone_dataset\n",
    "import fiftyone as fo\n",
    "import fiftyone.zoo as foz"
   ]
  },
  {
   "cell_type": "code",
   "execution_count": 2,
   "metadata": {},
   "outputs": [],
   "source": [
    "wanted_classes = \"animals\""
   ]
  },
  {
   "cell_type": "code",
   "execution_count": 3,
   "metadata": {},
   "outputs": [
    {
     "name": "stdout",
     "output_type": "stream",
     "text": [
      "Downloading split 'train' to 'C:\\Users\\stani\\fiftyone\\coco-2017\\train' if necessary\n",
      "Found annotations at 'C:\\Users\\stani\\fiftyone\\coco-2017\\raw\\instances_train2017.json'\n",
      "Sufficient images already downloaded\n",
      "Existing download of split 'train' is sufficient\n",
      "Loading existing dataset 'train_animals'. To reload from disk, either delete the existing dataset or provide a custom `dataset_name` to use\n"
     ]
    }
   ],
   "source": [
    "train_set = create_fiftyone_dataset(wanted_classes, \"train\", drop_existing_dataset=False)"
   ]
  },
  {
   "cell_type": "code",
   "execution_count": 4,
   "metadata": {},
   "outputs": [
    {
     "name": "stdout",
     "output_type": "stream",
     "text": [
      "Downloading split 'validation' to 'C:\\Users\\stani\\fiftyone\\coco-2017\\validation' if necessary\n",
      "Found annotations at 'C:\\Users\\stani\\fiftyone\\coco-2017\\raw\\instances_val2017.json'\n",
      "Sufficient images already downloaded\n",
      "Existing download of split 'validation' is sufficient\n",
      "Loading existing dataset 'validation_animals'. To reload from disk, either delete the existing dataset or provide a custom `dataset_name` to use\n"
     ]
    }
   ],
   "source": [
    "dev_set = create_fiftyone_dataset(wanted_classes, \"validation\", drop_existing_dataset=False)"
   ]
  },
  {
   "cell_type": "code",
   "execution_count": 5,
   "metadata": {},
   "outputs": [
    {
     "name": "stdout",
     "output_type": "stream",
     "text": [
      " 100% |█████████████| 23989/23989 [2.5m elapsed, 0s remaining, 112.9 samples/s]      \n"
     ]
    }
   ],
   "source": [
    "train_set.export(\"../datasets/\"+wanted_classes+\"/train2017\", dataset_type=fo.types.COCODetectionDataset)"
   ]
  },
  {
   "cell_type": "code",
   "execution_count": 6,
   "metadata": {},
   "outputs": [
    {
     "name": "stdout",
     "output_type": "stream",
     "text": [
      " 100% |███████████████| 1016/1016 [7.8s elapsed, 0s remaining, 174.6 samples/s]      \n"
     ]
    }
   ],
   "source": [
    "dev_set.export(\"../datasets/\"+wanted_classes+\"/val2017\", dataset_type=fo.types.COCODetectionDataset)"
   ]
  },
  {
   "cell_type": "code",
   "execution_count": 3,
   "metadata": {},
   "outputs": [],
   "source": [
    "for sample in train_set :\n",
    "    super_categories = []\n",
    "    if sample.tags[0] == \"test\" :\n",
    "        break\n",
    "    for box in sample.ground_truth.detections :\n",
    "        super_categories.append(box.supercategory)\n",
    "    if wanted_classes not in super_categories :\n",
    "        print(sample)\n",
    "        print(\"fail\")\n",
    "        break\n"
   ]
  },
  {
   "cell_type": "code",
   "execution_count": 6,
   "metadata": {},
   "outputs": [],
   "source": [
    "for sample in train_set :\n",
    "    super_categories = []\n",
    "    if sample.tags[0] == \"test\" :\n",
    "        break\n",
    "    for box in sample.ground_truth.detections :\n",
    "        if box.supercategory != wanted_classes :\n",
    "            print(sample)\n",
    "            break\n",
    "    else :\n",
    "        continue"
   ]
  }
 ],
 "metadata": {
  "kernelspec": {
   "display_name": "coco",
   "language": "python",
   "name": "python3"
  },
  "language_info": {
   "codemirror_mode": {
    "name": "ipython",
    "version": 3
   },
   "file_extension": ".py",
   "mimetype": "text/x-python",
   "name": "python",
   "nbconvert_exporter": "python",
   "pygments_lexer": "ipython3",
   "version": "3.7.13 (default, Oct 19 2022, 10:19:43) [MSC v.1916 64 bit (AMD64)]"
  },
  "orig_nbformat": 4,
  "vscode": {
   "interpreter": {
    "hash": "0cc9dd957ca55b758a394bd13f56e1e71562a4bb91f5af0835d65251fb2cfca3"
   }
  }
 },
 "nbformat": 4,
 "nbformat_minor": 2
}
